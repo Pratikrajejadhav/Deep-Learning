{
 "cells": [
  {
   "cell_type": "code",
   "execution_count": 1,
   "id": "1cbed432",
   "metadata": {},
   "outputs": [],
   "source": [
    "import cv2"
   ]
  },
  {
   "cell_type": "code",
   "execution_count": 2,
   "id": "2c92f314",
   "metadata": {},
   "outputs": [],
   "source": [
    "number_plate_cascade=cv2.CascadeClassifier('haarcascade_license_plate_rus_16stages.xml')"
   ]
  },
  {
   "cell_type": "code",
   "execution_count": 3,
   "id": "e23cd782",
   "metadata": {},
   "outputs": [
    {
     "data": {
      "text/plain": [
       "array([[[ 59, 125, 120],\n",
       "        [ 98, 164, 159],\n",
       "        [ 99, 163, 158],\n",
       "        ...,\n",
       "        [ 38, 163, 171],\n",
       "        [ 68, 187, 196],\n",
       "        [114, 229, 239]],\n",
       "\n",
       "       [[ 52, 122, 116],\n",
       "        [ 52, 122, 116],\n",
       "        [ 81, 151, 145],\n",
       "        ...,\n",
       "        [ 79, 196, 203],\n",
       "        [ 86, 203, 210],\n",
       "        [111, 228, 235]],\n",
       "\n",
       "       [[118, 195, 188],\n",
       "        [ 89, 167, 160],\n",
       "        [106, 189, 181],\n",
       "        ...,\n",
       "        [151, 249, 255],\n",
       "        [137, 253, 254],\n",
       "        [112, 236, 236]],\n",
       "\n",
       "       ...,\n",
       "\n",
       "       [[193, 180, 158],\n",
       "        [195, 182, 160],\n",
       "        [191, 178, 156],\n",
       "        ...,\n",
       "        [119, 195, 184],\n",
       "        [ 95, 119, 109],\n",
       "        [121, 120, 110]],\n",
       "\n",
       "       [[195, 182, 160],\n",
       "        [195, 182, 160],\n",
       "        [191, 178, 156],\n",
       "        ...,\n",
       "        [ 96, 116, 111],\n",
       "        [106, 110,  99],\n",
       "        [ 98,  92,  81]],\n",
       "\n",
       "       [[197, 184, 162],\n",
       "        [197, 184, 162],\n",
       "        [195, 182, 160],\n",
       "        ...,\n",
       "        [119, 113, 108],\n",
       "        [111, 102,  93],\n",
       "        [120, 112,  99]]], dtype=uint8)"
      ]
     },
     "execution_count": 3,
     "metadata": {},
     "output_type": "execute_result"
    }
   ],
   "source": [
    "img=cv2.imread('good_car.jpeg',\n",
    "               cv2.COLOR_BGR2GRAY)\n",
    "img"
   ]
  },
  {
   "cell_type": "code",
   "execution_count": 4,
   "id": "a7476fea",
   "metadata": {},
   "outputs": [],
   "source": [
    "cv2.imshow(\"image\",img)  # open a new window to show the image\n",
    "cv2.waitKey(0)          # if you want to close the image press 0\n",
    "cv2.destroyAllWindows() # the window will be closed"
   ]
  },
  {
   "cell_type": "code",
   "execution_count": 5,
   "id": "e22cd298",
   "metadata": {},
   "outputs": [],
   "source": [
    "# all together\n",
    "# we are reading an image\n",
    "# we are showing the imgage\n",
    "# we are applying a wait key\n",
    "# we are closing the image\n",
    "img=cv2.imread('good_car.jpeg',\n",
    "               cv2.COLOR_BGR2GRAY)\n",
    "\n",
    "cv2.imshow(\"image\",img)  # open a new window to show the image\n",
    "cv2.waitKey(0)          # if you want to close the image press 0\n",
    "cv2.destroyAllWindows()"
   ]
  },
  {
   "cell_type": "code",
   "execution_count": 6,
   "id": "eea5dbea",
   "metadata": {},
   "outputs": [],
   "source": [
    "img=cv2.imread('good_car.jpeg',\n",
    "               cv2.COLOR_BGR2GRAY)\n",
    "\n",
    "start_window=(5,5)\n",
    "end_window= (200,200)\n",
    "color=(0,0,255)\n",
    "thikness=5\n",
    "rec_image=cv2.rectangle(img,\n",
    "              start_window,\n",
    "              end_window,\n",
    "              color,\n",
    "              thikness)\n",
    "\n",
    "cv2.imshow(\"image\",rec_image)\n",
    "\n",
    "cv2.waitKey(0)         \n",
    "cv2.destroyAllWindows()\n",
    "\n",
    "# This is the problem \n",
    "# we need to provide correct values of start window and end window"
   ]
  },
  {
   "cell_type": "code",
   "execution_count": 7,
   "id": "c181be2b",
   "metadata": {},
   "outputs": [
    {
     "data": {
      "text/plain": [
       "(380, 600, 3)"
      ]
     },
     "execution_count": 7,
     "metadata": {},
     "output_type": "execute_result"
    }
   ],
   "source": [
    "img.shape"
   ]
  },
  {
   "cell_type": "code",
   "execution_count": 9,
   "id": "bbcdb25f",
   "metadata": {},
   "outputs": [
    {
     "name": "stdout",
     "output_type": "stream",
     "text": [
      "[[333 164 162  40]]\n",
      "333 164\n",
      "162 40\n"
     ]
    }
   ],
   "source": [
    "img=cv2.imread('good_car.jpeg',cv2.COLOR_BGR2GRAY)\n",
    "number_plate_cascade=cv2.CascadeClassifier('haarcascade_license_plate_rus_16stages.xml')\n",
    "number_plates=number_plate_cascade.detectMultiScale(img,1.1,4)\n",
    "print(number_plates)\n",
    "for (x,y,w,h) in number_plates:\n",
    "    print(x,y)\n",
    "    print(w,h)\n",
    "    cv2.rectangle(img,(x,y),(x+w,y+h),(0,0,255),3)   # B G  R  Red Is ON"
   ]
  },
  {
   "cell_type": "code",
   "execution_count": 10,
   "id": "c97a6dd0",
   "metadata": {},
   "outputs": [],
   "source": [
    "cv2.imshow('image',img)\n",
    "cv2.waitKey(0)\n",
    "cv2.destroyAllWindows()"
   ]
  },
  {
   "cell_type": "code",
   "execution_count": null,
   "id": "dee9ccf2",
   "metadata": {},
   "outputs": [],
   "source": []
  },
  {
   "cell_type": "code",
   "execution_count": null,
   "id": "d0fc3f0b",
   "metadata": {},
   "outputs": [],
   "source": []
  },
  {
   "cell_type": "code",
   "execution_count": 12,
   "id": "cd90f1e9",
   "metadata": {},
   "outputs": [],
   "source": [
    "cap=cv2.VideoCapture(0)\n",
    "while cap.isOpened():\n",
    "    has_frame,frame=cap.read()\n",
    "    imag=cv2.cvtColor(frame,cv2.COLOR_BGR2GRAY)\n",
    "    number_plate_cascade=cv2.CascadeClassifier('haarcascade_license_plate_rus_16stages.xml')\n",
    "    number_plates=number_plate_cascade.detectMultiScale(img,1.1,4)\n",
    "    for (x,y,w,h) in number_plates:\n",
    "        cv2.rectangle(imag,(x,y),(x+h,y+w),(255,0,0),3)\n",
    "    cv2.imshow('image',imag)\n",
    "    if cv2.waitKey(1) & 0xFF== ord('q'):\n",
    "        break\n",
    "cap.release()\n",
    "cv2.destroyAllWindows() \n"
   ]
  },
  {
   "cell_type": "code",
   "execution_count": null,
   "id": "946819ba",
   "metadata": {},
   "outputs": [],
   "source": []
  },
  {
   "cell_type": "code",
   "execution_count": null,
   "id": "3279be4f",
   "metadata": {},
   "outputs": [],
   "source": []
  }
 ],
 "metadata": {
  "kernelspec": {
   "display_name": "Python 3 (ipykernel)",
   "language": "python",
   "name": "python3"
  },
  "language_info": {
   "codemirror_mode": {
    "name": "ipython",
    "version": 3
   },
   "file_extension": ".py",
   "mimetype": "text/x-python",
   "name": "python",
   "nbconvert_exporter": "python",
   "pygments_lexer": "ipython3",
   "version": "3.11.5"
  }
 },
 "nbformat": 4,
 "nbformat_minor": 5
}

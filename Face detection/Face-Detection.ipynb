{
 "cells": [
  {
   "cell_type": "code",
   "execution_count": 2,
   "metadata": {},
   "outputs": [],
   "source": [
    "# !pip install opencv-python"
   ]
  },
  {
   "cell_type": "markdown",
   "metadata": {},
   "source": [
    "**Haar cascade**\n",
    "\n",
    "It is an object detection method"
   ]
  },
  {
   "cell_type": "code",
   "execution_count": 3,
   "metadata": {},
   "outputs": [],
   "source": [
    "import cv2"
   ]
  },
  {
   "cell_type": "markdown",
   "metadata": {},
   "source": [
    "https://github.com/opencv/opencv/tree/master/data/haarcascades"
   ]
  },
  {
   "cell_type": "code",
   "execution_count": 4,
   "metadata": {},
   "outputs": [],
   "source": [
    "face_cascade=cv2.CascadeClassifier('haarcascade_frontalface_default.xml')"
   ]
  },
  {
   "cell_type": "markdown",
   "metadata": {},
   "source": [
    "#### Image:"
   ]
  },
  {
   "cell_type": "code",
   "execution_count": 5,
   "metadata": {},
   "outputs": [
    {
     "data": {
      "text/plain": [
       "array([[[140, 133, 124],\n",
       "        [141, 134, 125],\n",
       "        [143, 135, 128],\n",
       "        ...,\n",
       "        [177, 168, 164],\n",
       "        [177, 168, 164],\n",
       "        [176, 167, 163]],\n",
       "\n",
       "       [[141, 134, 125],\n",
       "        [142, 135, 126],\n",
       "        [144, 136, 129],\n",
       "        ...,\n",
       "        [178, 169, 165],\n",
       "        [178, 169, 165],\n",
       "        [177, 168, 164]],\n",
       "\n",
       "       [[143, 136, 127],\n",
       "        [144, 137, 128],\n",
       "        [145, 137, 130],\n",
       "        ...,\n",
       "        [179, 170, 166],\n",
       "        [179, 170, 166],\n",
       "        [178, 169, 165]],\n",
       "\n",
       "       ...,\n",
       "\n",
       "       [[106, 100,  89],\n",
       "        [106, 100,  89],\n",
       "        [104, 100,  89],\n",
       "        ...,\n",
       "        [159, 152, 143],\n",
       "        [159, 152, 143],\n",
       "        [159, 152, 143]],\n",
       "\n",
       "       [[105,  99,  88],\n",
       "        [105,  99,  88],\n",
       "        [103,  99,  88],\n",
       "        ...,\n",
       "        [158, 151, 142],\n",
       "        [158, 151, 142],\n",
       "        [158, 151, 142]],\n",
       "\n",
       "       [[105,  99,  88],\n",
       "        [105,  99,  88],\n",
       "        [103,  99,  88],\n",
       "        ...,\n",
       "        [157, 150, 141],\n",
       "        [157, 150, 141],\n",
       "        [157, 150, 141]]], dtype=uint8)"
      ]
     },
     "execution_count": 5,
     "metadata": {},
     "output_type": "execute_result"
    }
   ],
   "source": [
    "img=cv2.imread('image_face.jpg',\n",
    "               cv2.COLOR_BGR2GRAY)\n",
    "img"
   ]
  },
  {
   "cell_type": "code",
   "execution_count": 6,
   "metadata": {},
   "outputs": [],
   "source": [
    "cv2.imshow(\"image\",img)  # open a new window to show the image\n",
    "cv2.waitKey(0)          # if you want to close the image press 0\n",
    "cv2.destroyAllWindows() # the window will be closed"
   ]
  },
  {
   "cell_type": "code",
   "execution_count": 7,
   "metadata": {},
   "outputs": [],
   "source": [
    "# all together\n",
    "# we are reading an image\n",
    "# we are showing the imgage\n",
    "# we are applying a wait key\n",
    "# we are closing the image\n",
    "img=cv2.imread('image_face.jpg',\n",
    "               cv2.COLOR_BGR2GRAY)\n",
    "\n",
    "cv2.imshow(\"image\",img)  # open a new window to show the image\n",
    "cv2.waitKey(0)          # if you want to close the image press 0\n",
    "cv2.destroyAllWindows()"
   ]
  },
  {
   "cell_type": "markdown",
   "metadata": {},
   "source": [
    "**cv2.rectangle**:\n",
    "    \n",
    "- Image paths\n",
    "\n",
    "- start_window= (5,5)\n",
    "\n",
    "- end_window= (200,200)\n",
    "\n",
    "- BGR : (255,0,0)\n",
    "    \n",
    "- thikness= 3"
   ]
  },
  {
   "cell_type": "code",
   "execution_count": 8,
   "metadata": {},
   "outputs": [],
   "source": [
    "img=cv2.imread('image_face.jpg',\n",
    "               cv2.COLOR_BGR2GRAY)\n",
    "\n",
    "start_window=(5,5)\n",
    "end_window= (200,200)\n",
    "color=(0,0,255)\n",
    "thikness=5\n",
    "rec_image=cv2.rectangle(img,\n",
    "              start_window,\n",
    "              end_window,\n",
    "              color,\n",
    "              thikness)\n",
    "\n",
    "cv2.imshow(\"image\",rec_image)\n",
    "\n",
    "cv2.waitKey(0)         \n",
    "cv2.destroyAllWindows()\n",
    "\n",
    "# This is the problem \n",
    "# we need to provide correct values of start window and end window"
   ]
  },
  {
   "cell_type": "code",
   "execution_count": 9,
   "metadata": {},
   "outputs": [
    {
     "data": {
      "text/plain": [
       "(360, 540, 3)"
      ]
     },
     "execution_count": 9,
     "metadata": {},
     "output_type": "execute_result"
    }
   ],
   "source": [
    "img.shape"
   ]
  },
  {
   "cell_type": "code",
   "execution_count": null,
   "metadata": {},
   "outputs": [],
   "source": []
  },
  {
   "cell_type": "code",
   "execution_count": 10,
   "metadata": {},
   "outputs": [
    {
     "name": "stdout",
     "output_type": "stream",
     "text": [
      "[[212  40 101 101]]\n",
      "212 40\n",
      "101 101\n"
     ]
    }
   ],
   "source": [
    "img=cv2.imread('image_face.jpg',cv2.COLOR_BGR2GRAY)\n",
    "face_cascade=cv2.CascadeClassifier('haarcascade_frontalface_default.xml')\n",
    "faces=face_cascade.detectMultiScale(img,1.1,4)\n",
    "print(faces)\n",
    "for (x,y,w,h) in faces:\n",
    "    print(x,y)\n",
    "    print(w,h)\n",
    "    cv2.rectangle(img,(x,y),(x+w,y+h),(0,0,255),3)   # B G  R  Red Is ON"
   ]
  },
  {
   "cell_type": "code",
   "execution_count": 11,
   "metadata": {},
   "outputs": [],
   "source": [
    "cv2.imshow('image',img)\n",
    "cv2.waitKey(0)\n",
    "cv2.destroyAllWindows()"
   ]
  },
  {
   "cell_type": "code",
   "execution_count": 12,
   "metadata": {},
   "outputs": [],
   "source": [
    "#face_cascade = cv2.CascadeClassifier(cv2.data.haarcascades + 'haarcascade_frontalface_default.xml')\n",
    "#eye_cascade = cv2.CascadeClassifier(cv2.data.haarcascades + 'haarcascade_eye.xml')"
   ]
  },
  {
   "cell_type": "markdown",
   "metadata": {},
   "source": [
    "#### Video:"
   ]
  },
  {
   "cell_type": "code",
   "execution_count": 23,
   "metadata": {},
   "outputs": [],
   "source": [
    "cap=cv2.VideoCapture(0)\n",
    "while cap.isOpened():\n",
    "    has_frame,frame=cap.read()\n",
    "    imag=cv2.cvtColor(frame,cv2.COLOR_BGR2RGB)\n",
    "    faces=face_cascade.detectMultiScale(imag,1.1,4)\n",
    "    for (x,y,w,h) in faces:\n",
    "        cv2.rectangle(imag,(x,y),(x+h,y+w),(255,0,0),3)\n",
    "    cv2.imshow('image',imag)\n",
    "    if cv2.waitKey(1) & 0xFF== ord('q'):\n",
    "        break\n",
    "cap.release()\n",
    "cv2.destroyAllWindows() \n"
   ]
  },
  {
   "cell_type": "markdown",
   "metadata": {},
   "source": [
    "#### With eyeball:"
   ]
  },
  {
   "cell_type": "code",
   "execution_count": 16,
   "metadata": {},
   "outputs": [],
   "source": [
    "import cv2\n",
    "eye_cascade=cv2.CascadeClassifier('haarcascade_eye.xml')\n",
    "face_cascade=cv2.CascadeClassifier('haarcascade_frontalface_default.xml')"
   ]
  },
  {
   "cell_type": "code",
   "execution_count": 17,
   "metadata": {},
   "outputs": [],
   "source": [
    "img=cv2.imread('image_face.jpg',\n",
    "               cv2.COLOR_BGR2GRAY)"
   ]
  },
  {
   "cell_type": "code",
   "execution_count": 18,
   "metadata": {},
   "outputs": [],
   "source": [
    "cap=cv2.VideoCapture(0)\n",
    "while True:\n",
    "    has_frame,frame=cap.read()\n",
    "    gray=cv2.cvtColor(frame,cv2.COLOR_BGR2RGB)\n",
    "    faces=face_cascade.detectMultiScale(gray,1.3,5)\n",
    "    for (x,y,w,h) in faces:\n",
    "        cv2.rectangle(frame,(x,y),(x+w,y+h),(255,0,0),2)\n",
    "        roi_gray=gray[y:y+h,x:x+w] #region of the image\n",
    "        roi_color=frame[y:y+h,x:x+w]\n",
    "        eyes=eye_cascade.detectMultiScale(roi_gray)\n",
    "        for (e_x,e_y,e_w,e_h) in eyes:\n",
    "            cv2.rectangle(roi_color,(e_x,e_y),(e_x+e_w,e_y+e_h),(0,255,0),2)\n",
    "    cv2.imshow('imag',frame)\n",
    "    if cv2.waitKey(1) & 0xFF==ord('q'):\n",
    "        break\n",
    "cap.release()\n",
    "cv2.destroyAllWindows()"
   ]
  },
  {
   "cell_type": "code",
   "execution_count": null,
   "metadata": {},
   "outputs": [],
   "source": []
  }
 ],
 "metadata": {
  "kernelspec": {
   "display_name": "Python 3 (ipykernel)",
   "language": "python",
   "name": "python3"
  },
  "language_info": {
   "codemirror_mode": {
    "name": "ipython",
    "version": 3
   },
   "file_extension": ".py",
   "mimetype": "text/x-python",
   "name": "python",
   "nbconvert_exporter": "python",
   "pygments_lexer": "ipython3",
   "version": "3.11.5"
  }
 },
 "nbformat": 4,
 "nbformat_minor": 2
}
